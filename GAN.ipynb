{
  "nbformat": 4,
  "nbformat_minor": 0,
  "metadata": {
    "colab": {
      "provenance": [],
      "authorship_tag": "ABX9TyNodCSZruV70ztnRRgbzuD4",
      "include_colab_link": true
    },
    "kernelspec": {
      "name": "python3",
      "display_name": "Python 3"
    },
    "language_info": {
      "name": "python"
    },
    "accelerator": "GPU",
    "gpuClass": "standard"
  },
  "cells": [
    {
      "cell_type": "markdown",
      "metadata": {
        "id": "view-in-github",
        "colab_type": "text"
      },
      "source": [
        "<a href=\"https://colab.research.google.com/github/Tejaswi-kashyap-006/GAN_network/blob/main/GAN.ipynb\" target=\"_parent\"><img src=\"https://colab.research.google.com/assets/colab-badge.svg\" alt=\"Open In Colab\"/></a>"
      ]
    },
    {
      "cell_type": "code",
      "execution_count": null,
      "metadata": {
        "id": "xwIxv9uuYVXR"
      },
      "outputs": [],
      "source": [
        "import numpy as np \n",
        "import pandas as pd\n",
        "import matplotlib.pyplot as plt"
      ]
    },
    {
      "cell_type": "code",
      "source": [
        "from tensorflow.keras.datasets import mnist"
      ],
      "metadata": {
        "id": "DMqhEzZBYsBy"
      },
      "execution_count": null,
      "outputs": []
    },
    {
      "cell_type": "code",
      "source": [
        "(X_train, y_train), (X_test, y_test) = mnist.load_data()"
      ],
      "metadata": {
        "colab": {
          "base_uri": "https://localhost:8080/"
        },
        "id": "_xRkZOrQY0q9",
        "outputId": "3eeb66d2-4f72-4f00-fa6b-0afd812b13a9"
      },
      "execution_count": null,
      "outputs": [
        {
          "output_type": "stream",
          "name": "stdout",
          "text": [
            "Downloading data from https://storage.googleapis.com/tensorflow/tf-keras-datasets/mnist.npz\n",
            "11490434/11490434 [==============================] - 2s 0us/step\n"
          ]
        }
      ]
    },
    {
      "cell_type": "code",
      "source": [
        "plt.imshow(X_train[0])"
      ],
      "metadata": {
        "colab": {
          "base_uri": "https://localhost:8080/",
          "height": 282
        },
        "id": "WQ-irIO9ZK9H",
        "outputId": "56896afc-e7f8-4532-827d-54685b43a9ee"
      },
      "execution_count": null,
      "outputs": [
        {
          "output_type": "execute_result",
          "data": {
            "text/plain": [
              "<matplotlib.image.AxesImage at 0x7feef3874940>"
            ]
          },
          "metadata": {},
          "execution_count": 4
        },
        {
          "output_type": "display_data",
          "data": {
            "text/plain": [
              "<Figure size 432x288 with 1 Axes>"
            ],
            "image/png": "[encoded data removed]"
          },
          "metadata": {
            "needs_background": "light"
          }
        }
      ]
    },
    {
      "cell_type": "code",
      "source": [
        "only_zeros = X_train[y_train==0]"
      ],
      "metadata": {
        "id": "9KpBS5wFZyDL"
      },
      "execution_count": null,
      "outputs": []
    },
    {
      "cell_type": "code",
      "source": [
        "only_zeros.shape"
      ],
      "metadata": {
        "colab": {
          "base_uri": "https://localhost:8080/"
        },
        "id": "2qpwKNxdZ896",
        "outputId": "40bf1cf2-cb8a-462b-d337-25e4c54ea7ee"
      },
      "execution_count": null,
      "outputs": [
        {
          "output_type": "execute_result",
          "data": {
            "text/plain": [
              "(5923, 28, 28)"
            ]
          },
          "metadata": {},
          "execution_count": 6
        }
      ]
    },
    {
      "cell_type": "code",
      "source": [
        "import tensorflow as tf\n",
        "from tensorflow.keras.layers import Dense, Reshape, Flatten\n",
        "from tensorflow.keras.models import Sequential"
      ],
      "metadata": {
        "id": "Uk0YF84AdZSx"
      },
      "execution_count": null,
      "outputs": []
    },
    {
      "cell_type": "code",
      "source": [
        "discriminator = Sequential()\n",
        "discriminator.add(Flatten(input_shape=[28,28]))\n",
        "discriminator.add(Dense(150, activation = 'relu'))\n",
        "discriminator.add(Dense(100, activation = 'relu'))\n",
        "# final output layer \n",
        "discriminator.add(Dense(1, activation = 'sigmoid'))\n",
        "\n",
        "discriminator.compile(loss ='binary_crossentropy', optimizer='adam')"
      ],
      "metadata": {
        "id": "otOdgZm3dycy"
      },
      "execution_count": null,
      "outputs": []
    },
    {
      "cell_type": "code",
      "source": [
        "codings_size=100\n",
        "\n",
        "generator = Sequential()\n",
        "generator.add(Dense(100,activation = 'relu', input_shape=[codings_size]))\n",
        "generator.add(Dense(150,activation= 'relu'))\n",
        "generator.add(Dense(784,activation= 'relu'))\n",
        "generator.add(Reshape([28,28]))"
      ],
      "metadata": {
        "id": "M8X56Y0AzzL4"
      },
      "execution_count": null,
      "outputs": []
    },
    {
      "cell_type": "code",
      "source": [
        "GAN = Sequential([generator, discriminator])"
      ],
      "metadata": {
        "id": "nOJyKpJp0k0-"
      },
      "execution_count": null,
      "outputs": []
    },
    {
      "cell_type": "code",
      "source": [
        "discriminator.trainable = False"
      ],
      "metadata": {
        "id": "7D-Y8_iF00tL"
      },
      "execution_count": null,
      "outputs": []
    },
    {
      "cell_type": "code",
      "source": [
        "GAN.compile(loss = 'binary_crossentropy', optimizer='adam')"
      ],
      "metadata": {
        "id": "atqXddZP4Apz"
      },
      "execution_count": null,
      "outputs": []
    },
    {
      "cell_type": "code",
      "source": [
        "batch_size = 32"
      ],
      "metadata": {
        "id": "31rjH8SV5EN6"
      },
      "execution_count": null,
      "outputs": []
    },
    {
      "cell_type": "code",
      "source": [
        "my_data = only_zeros"
      ],
      "metadata": {
        "id": "_Ink4Sh45Hu6"
      },
      "execution_count": null,
      "outputs": []
    },
    {
      "cell_type": "code",
      "source": [
        "dataset = tf.data.Dataset.from_tensor_slices(my_data).shuffle(buffer_size=1000)"
      ],
      "metadata": {
        "id": "TcAvKDGb5M5v"
      },
      "execution_count": null,
      "outputs": []
    },
    {
      "cell_type": "code",
      "source": [
        "type(dataset)"
      ],
      "metadata": {
        "colab": {
          "base_uri": "https://localhost:8080/"
        },
        "id": "eWwk5qeC5mKu",
        "outputId": "926727cf-5bd4-4e20-bb50-d109b727796d"
      },
      "execution_count": null,
      "outputs": [
        {
          "output_type": "execute_result",
          "data": {
            "text/plain": [
              "tensorflow.python.data.ops.dataset_ops.ShuffleDataset"
            ]
          },
          "metadata": {},
          "execution_count": 16
        }
      ]
    },
    {
      "cell_type": "code",
      "source": [
        "dataset = dataset.batch(batch_size, drop_remainder=True).prefetch(1)"
      ],
      "metadata": {
        "id": "K77DXfIs5ovY"
      },
      "execution_count": null,
      "outputs": []
    },
    {
      "cell_type": "code",
      "source": [
        "epochs = 100"
      ],
      "metadata": {
        "id": "WMhHb3NM6PjL"
      },
      "execution_count": null,
      "outputs": []
    },
    {
      "cell_type": "code",
      "source": [
        "generator, discriminator = GAN.layers \n",
        "\n",
        "for epoch in range(epochs):\n",
        "    print(f\"Currently on Epoch {epoch+1}\")\n",
        "    i = 0\n",
        "\n",
        "    for X_batch in dataset:\n",
        "\n",
        "        i = i+1\n",
        "\n",
        "        if i%100 == 0:\n",
        "            print(f\"\\t currently on batch number {i} of {len(my_data)//batch_size} \")\n",
        "\n",
        "        #Discrimnator\n",
        "        noise = tf.random.normal(shape=[batch_size, codings_size])\n",
        "        gen_images = generator(noise) \n",
        "        X_fake_vs_real = tf.concat([gen_images, tf.dtypes.cast(X_batch,tf.float32)],axis=0)\n",
        "        y1 = tf.constant([[0.0]]*batch_size + [[1.0]]*batch_size)\n",
        "        discriminator.trainable = True\n",
        "        discriminator.train_on_batch(X_fake_vs_real,y1)\n",
        "\n",
        "        #train the generator\n",
        "        noise = tf.random.normal(shape=[batch_size, codings_size])\n",
        "        y2 = tf.constant([[1.0]]*batch_size)\n",
        "        discriminator.trainable = False\n",
        "        GAN.train_on_batch(noise,y2)\n",
        "\n"
      ],
      "metadata": {
        "colab": {
          "base_uri": "https://localhost:8080/"
        },
        "id": "XYpFsqfq6VXF",
        "outputId": "08de6efd-6fa3-44fc-d212-5389ba78f314"
      },
      "execution_count": null,
      "outputs": [
        {
          "output_type": "stream",
          "name": "stdout",
          "text": [
            "Currently on Epoch 1\n",
            "\t currently on batch number 100 of 185 \n",
            "Currently on Epoch 2\n",
            "\t currently on batch number 100 of 185 \n",
            "Currently on Epoch 3\n",
            "\t currently on batch number 100 of 185 \n",
            "Currently on Epoch 4\n",
            "\t currently on batch number 100 of 185 \n",
            "Currently on Epoch 5\n",
            "\t currently on batch number 100 of 185 \n",
            "Currently on Epoch 6\n",
            "\t currently on batch number 100 of 185 \n",
            "Currently on Epoch 7\n",
            "\t currently on batch number 100 of 185 \n",
            "Currently on Epoch 8\n",
            "\t currently on batch number 100 of 185 \n",
            "Currently on Epoch 9\n",
            "\t currently on batch number 100 of 185 \n",
            "Currently on Epoch 10\n",
            "\t currently on batch number 100 of 185 \n",
            "Currently on Epoch 11\n",
            "\t currently on batch number 100 of 185 \n",
            "Currently on Epoch 12\n",
            "\t currently on batch number 100 of 185 \n",
            "Currently on Epoch 13\n",
            "\t currently on batch number 100 of 185 \n",
            "Currently on Epoch 14\n",
            "\t currently on batch number 100 of 185 \n",
            "Currently on Epoch 15\n",
            "\t currently on batch number 100 of 185 \n",
            "Currently on Epoch 16\n",
            "\t currently on batch number 100 of 185 \n",
            "Currently on Epoch 17\n",
            "\t currently on batch number 100 of 185 \n",
            "Currently on Epoch 18\n",
            "\t currently on batch number 100 of 185 \n",
            "Currently on Epoch 19\n",
            "\t currently on batch number 100 of 185 \n",
            "Currently on Epoch 20\n",
            "\t currently on batch number 100 of 185 \n",
            "Currently on Epoch 21\n",
            "\t currently on batch number 100 of 185 \n",
            "Currently on Epoch 22\n",
            "\t currently on batch number 100 of 185 \n",
            "Currently on Epoch 23\n",
            "\t currently on batch number 100 of 185 \n",
            "Currently on Epoch 24\n",
            "\t currently on batch number 100 of 185 \n",
            "Currently on Epoch 25\n",
            "\t currently on batch number 100 of 185 \n",
            "Currently on Epoch 26\n",
            "\t currently on batch number 100 of 185 \n",
            "Currently on Epoch 27\n",
            "\t currently on batch number 100 of 185 \n",
            "Currently on Epoch 28\n",
            "\t currently on batch number 100 of 185 \n",
            "Currently on Epoch 29\n",
            "\t currently on batch number 100 of 185 \n",
            "Currently on Epoch 30\n",
            "\t currently on batch number 100 of 185 \n",
            "Currently on Epoch 31\n",
            "\t currently on batch number 100 of 185 \n",
            "Currently on Epoch 32\n",
            "\t currently on batch number 100 of 185 \n",
            "Currently on Epoch 33\n",
            "\t currently on batch number 100 of 185 \n",
            "Currently on Epoch 34\n",
            "\t currently on batch number 100 of 185 \n",
            "Currently on Epoch 35\n",
            "\t currently on batch number 100 of 185 \n",
            "Currently on Epoch 36\n",
            "\t currently on batch number 100 of 185 \n",
            "Currently on Epoch 37\n",
            "\t currently on batch number 100 of 185 \n",
            "Currently on Epoch 38\n",
            "\t currently on batch number 100 of 185 \n",
            "Currently on Epoch 39\n",
            "\t currently on batch number 100 of 185 \n",
            "Currently on Epoch 40\n",
            "\t currently on batch number 100 of 185 \n",
            "Currently on Epoch 41\n",
            "\t currently on batch number 100 of 185 \n",
            "Currently on Epoch 42\n",
            "\t currently on batch number 100 of 185 \n",
            "Currently on Epoch 43\n",
            "\t currently on batch number 100 of 185 \n",
            "Currently on Epoch 44\n",
            "\t currently on batch number 100 of 185 \n",
            "Currently on Epoch 45\n",
            "\t currently on batch number 100 of 185 \n",
            "Currently on Epoch 46\n",
            "\t currently on batch number 100 of 185 \n",
            "Currently on Epoch 47\n",
            "\t currently on batch number 100 of 185 \n",
            "Currently on Epoch 48\n",
            "\t currently on batch number 100 of 185 \n",
            "Currently on Epoch 49\n",
            "\t currently on batch number 100 of 185 \n",
            "Currently on Epoch 50\n",
            "\t currently on batch number 100 of 185 \n",
            "Currently on Epoch 51\n",
            "\t currently on batch number 100 of 185 \n",
            "Currently on Epoch 52\n",
            "\t currently on batch number 100 of 185 \n",
            "Currently on Epoch 53\n",
            "\t currently on batch number 100 of 185 \n",
            "Currently on Epoch 54\n",
            "\t currently on batch number 100 of 185 \n",
            "Currently on Epoch 55\n",
            "\t currently on batch number 100 of 185 \n",
            "Currently on Epoch 56\n",
            "\t currently on batch number 100 of 185 \n",
            "Currently on Epoch 57\n",
            "\t currently on batch number 100 of 185 \n",
            "Currently on Epoch 58\n",
            "\t currently on batch number 100 of 185 \n",
            "Currently on Epoch 59\n",
            "\t currently on batch number 100 of 185 \n",
            "Currently on Epoch 60\n",
            "\t currently on batch number 100 of 185 \n",
            "Currently on Epoch 61\n",
            "\t currently on batch number 100 of 185 \n",
            "Currently on Epoch 62\n",
            "\t currently on batch number 100 of 185 \n",
            "Currently on Epoch 63\n",
            "\t currently on batch number 100 of 185 \n",
            "Currently on Epoch 64\n",
            "\t currently on batch number 100 of 185 \n",
            "Currently on Epoch 65\n",
            "\t currently on batch number 100 of 185 \n",
            "Currently on Epoch 66\n",
            "\t currently on batch number 100 of 185 \n",
            "Currently on Epoch 67\n",
            "\t currently on batch number 100 of 185 \n",
            "Currently on Epoch 68\n",
            "\t currently on batch number 100 of 185 \n",
            "Currently on Epoch 69\n",
            "\t currently on batch number 100 of 185 \n",
            "Currently on Epoch 70\n",
            "\t currently on batch number 100 of 185 \n",
            "Currently on Epoch 71\n",
            "\t currently on batch number 100 of 185 \n",
            "Currently on Epoch 72\n",
            "\t currently on batch number 100 of 185 \n",
            "Currently on Epoch 73\n",
            "\t currently on batch number 100 of 185 \n",
            "Currently on Epoch 74\n",
            "\t currently on batch number 100 of 185 \n",
            "Currently on Epoch 75\n",
            "\t currently on batch number 100 of 185 \n",
            "Currently on Epoch 76\n",
            "\t currently on batch number 100 of 185 \n",
            "Currently on Epoch 77\n",
            "\t currently on batch number 100 of 185 \n",
            "Currently on Epoch 78\n",
            "\t currently on batch number 100 of 185 \n",
            "Currently on Epoch 79\n",
            "\t currently on batch number 100 of 185 \n",
            "Currently on Epoch 80\n",
            "\t currently on batch number 100 of 185 \n",
            "Currently on Epoch 81\n",
            "\t currently on batch number 100 of 185 \n",
            "Currently on Epoch 82\n",
            "\t currently on batch number 100 of 185 \n",
            "Currently on Epoch 83\n",
            "\t currently on batch number 100 of 185 \n",
            "Currently on Epoch 84\n",
            "\t currently on batch number 100 of 185 \n",
            "Currently on Epoch 85\n",
            "\t currently on batch number 100 of 185 \n",
            "Currently on Epoch 86\n",
            "\t currently on batch number 100 of 185 \n",
            "Currently on Epoch 87\n",
            "\t currently on batch number 100 of 185 \n",
            "Currently on Epoch 88\n",
            "\t currently on batch number 100 of 185 \n",
            "Currently on Epoch 89\n",
            "\t currently on batch number 100 of 185 \n",
            "Currently on Epoch 90\n",
            "\t currently on batch number 100 of 185 \n",
            "Currently on Epoch 91\n",
            "\t currently on batch number 100 of 185 \n",
            "Currently on Epoch 92\n",
            "\t currently on batch number 100 of 185 \n",
            "Currently on Epoch 93\n",
            "\t currently on batch number 100 of 185 \n",
            "Currently on Epoch 94\n",
            "\t currently on batch number 100 of 185 \n",
            "Currently on Epoch 95\n",
            "\t currently on batch number 100 of 185 \n",
            "Currently on Epoch 96\n",
            "\t currently on batch number 100 of 185 \n",
            "Currently on Epoch 97\n",
            "\t currently on batch number 100 of 185 \n",
            "Currently on Epoch 98\n",
            "\t currently on batch number 100 of 185 \n",
            "Currently on Epoch 99\n",
            "\t currently on batch number 100 of 185 \n",
            "Currently on Epoch 100\n",
            "\t currently on batch number 100 of 185 \n"
          ]
        }
      ]
    },
    {
      "cell_type": "code",
      "source": [
        "noise = tf.random.normal(shape=[10,codings_size])"
      ],
      "metadata": {
        "id": "c-qVpO60tAck"
      },
      "execution_count": null,
      "outputs": []
    },
    {
      "cell_type": "code",
      "source": [
        "noise.shape"
      ],
      "metadata": {
        "colab": {
          "base_uri": "https://localhost:8080/"
        },
        "id": "rV0wxMMItNba",
        "outputId": "27e545c7-d8e9-4c8c-9346-97dadd3c1358"
      },
      "execution_count": null,
      "outputs": [
        {
          "output_type": "execute_result",
          "data": {
            "text/plain": [
              "TensorShape([10, 100])"
            ]
          },
          "metadata": {},
          "execution_count": 39
        }
      ]
    },
    {
      "cell_type": "code",
      "source": [
        "plt.imshow(noise)"
      ],
      "metadata": {
        "colab": {
          "base_uri": "https://localhost:8080/",
          "height": 101
        },
        "id": "qxIq1W-AtSDm",
        "outputId": "67ff3428-2026-4385-9325-7397e019b617"
      },
      "execution_count": null,
      "outputs": [
        {
          "output_type": "execute_result",
          "data": {
            "text/plain": [
              "<matplotlib.image.AxesImage at 0x7feee03712b0>"
            ]
          },
          "metadata": {},
          "execution_count": 40
        },
        {
          "output_type": "display_data",
          "data": {
            "text/plain": [
              "<Figure size 432x288 with 1 Axes>"
            ],
            "image/png": "[encoded data removed]"
          },
          "metadata": {
            "needs_background": "light"
          }
        }
      ]
    },
    {
      "cell_type": "code",
      "source": [
        "images = generator(noise)"
      ],
      "metadata": {
        "id": "zS60ZOUetmOu"
      },
      "execution_count": null,
      "outputs": []
    },
    {
      "cell_type": "code",
      "source": [
        "images.shape"
      ],
      "metadata": {
        "colab": {
          "base_uri": "https://localhost:8080/"
        },
        "id": "YP9ElyHFtv1a",
        "outputId": "95b0a121-5897-4616-fd3f-bb76228a2f50"
      },
      "execution_count": null,
      "outputs": [
        {
          "output_type": "execute_result",
          "data": {
            "text/plain": [
              "TensorShape([10, 28, 28])"
            ]
          },
          "metadata": {},
          "execution_count": 42
        }
      ]
    },
    {
      "cell_type": "code",
      "source": [
        "plt.imshow(images[0])"
      ],
      "metadata": {
        "colab": {
          "base_uri": "https://localhost:8080/",
          "height": 282
        },
        "id": "d-K6J7eLtyek",
        "outputId": "da80590c-8829-41e3-bb3b-61aeef8abe39"
      },
      "execution_count": null,
      "outputs": [
        {
          "output_type": "execute_result",
          "data": {
            "text/plain": [
              "<matplotlib.image.AxesImage at 0x7feee0331850>"
            ]
          },
          "metadata": {},
          "execution_count": 43
        },
        {
          "output_type": "display_data",
          "data": {
            "text/plain": [
              "<Figure size 432x288 with 1 Axes>"
            ],
            "image/png": "[encoded data removed]"
          },
          "metadata": {
            "needs_background": "light"
          }
        }
      ]
    },
    {
      "cell_type": "code",
      "source": [
        "plt.imshow(images[1])"
      ],
      "metadata": {
        "colab": {
          "base_uri": "https://localhost:8080/",
          "height": 282
        },
        "id": "PmElY4r-vIGk",
        "outputId": "d6028585-73ab-4015-c49d-f7f4180ad7ad"
      },
      "execution_count": null,
      "outputs": [
        {
          "output_type": "execute_result",
          "data": {
            "text/plain": [
              "<matplotlib.image.AxesImage at 0x7feee02816a0>"
            ]
          },
          "metadata": {},
          "execution_count": 44
        },
        {
          "output_type": "display_data",
          "data": {
            "text/plain": [
              "<Figure size 432x288 with 1 Axes>"
            ],
            "image/png": "[encoded data removed]"
          },
          "metadata": {
            "needs_background": "light"
          }
        }
      ]
    },
    {
      "cell_type": "code",
      "source": [
        "plt.imshow(images[2])"
      ],
      "metadata": {
        "colab": {
          "base_uri": "https://localhost:8080/",
          "height": 282
        },
        "outputId": "393bdacd-9d73-4488-971d-ead5a9694f3c",
        "id": "D9NxEf1VyXRW"
      },
      "execution_count": null,
      "outputs": [
        {
          "output_type": "execute_result",
          "data": {
            "text/plain": [
              "<matplotlib.image.AxesImage at 0x7feee021a490>"
            ]
          },
          "metadata": {},
          "execution_count": 45
        },
        {
          "output_type": "display_data",
          "data": {
            "text/plain": [
              "<Figure size 432x288 with 1 Axes>"
            ],
            "image/png": "[encoded data removed]"
          },
          "metadata": {
            "needs_background": "light"
          }
        }
      ]
    }
  ]
}